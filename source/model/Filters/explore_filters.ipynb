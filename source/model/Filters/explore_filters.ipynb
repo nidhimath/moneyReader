{
  "nbformat": 4,
  "nbformat_minor": 0,
  "metadata": {
    "colab": {
      "name": "explore_filters.ipynb",
      "provenance": [],
      "collapsed_sections": [],
      "authorship_tag": "ABX9TyM5qJ2inwacEwisjsyboDFd",
      "include_colab_link": true
    },
    "kernelspec": {
      "name": "python3",
      "display_name": "Python 3"
    }
  },
  "cells": [
    {
      "cell_type": "markdown",
      "metadata": {
        "id": "view-in-github",
        "colab_type": "text"
      },
      "source": [
        "<a href=\"https://colab.research.google.com/github/nidhimath/moneyReader/blob/master/source/model/Filters/explore_filters.ipynb\" target=\"_parent\"><img src=\"https://colab.research.google.com/assets/colab-badge.svg\" alt=\"Open In Colab\"/></a>"
      ]
    },
    {
      "cell_type": "code",
      "metadata": {
        "id": "7Xn1atw5mlB9",
        "colab": {
          "base_uri": "https://localhost:8080/"
        },
        "outputId": "4e596474-cc38-4a78-93cb-64238af4cd8e"
      },
      "source": [
        "import matplotlib.pyplot as plt\n",
        "import numpy as np\n",
        "import scipy\n",
        "import skimage\n",
        "from skimage import feature\n",
        "from scipy import signal\n",
        "from skimage import io\n",
        "from skimage.filters import gaussian\n",
        "from skimage.transform import rescale\n",
        "from skimage.feature import corner_harris\n",
        "\n",
        "import cv2 as cv\n",
        "\n",
        "dollar_file = \"skull.jpeg\"\n",
        "\n",
        "dollar = io.imread(dollar_file, as_gray=True)\n",
        "\n",
        "#dollar = rescale(dollar, 0.5, anti_aliasing=True)\n",
        "dollar = skimage.img_as_float32(dollar)\n",
        "\n",
        "io.imsave('skull.jpg', dollar)"
      ],
      "execution_count": null,
      "outputs": [
        {
          "output_type": "stream",
          "text": [
            "WARNING:root:Lossy conversion from float32 to uint8. Range [0, 1]. Convert image to uint8 prior to saving to suppress this warning.\n"
          ],
          "name": "stderr"
        }
      ]
    },
    {
      "cell_type": "markdown",
      "metadata": {
        "id": "V9KcUpEv6gCM"
      },
      "source": [
        "These are the different filters"
      ]
    },
    {
      "cell_type": "code",
      "metadata": {
        "id": "IusY-KezqZo1",
        "colab": {
          "base_uri": "https://localhost:8080/"
        },
        "outputId": "1d083c67-a884-4ecb-e5ff-47f5eae4e747"
      },
      "source": [
        "# filter 1: box filter(blurs image)\n",
        "filt1 = np.ones((5,5))*1/25\n",
        "\n",
        "mystery = scipy.signal.signaltools.correlate2d(dollar, filt1)\n",
        "mystery = (mystery - np.min(mystery))/(np.max(mystery) - np.min(mystery))\n",
        "\n",
        "io.imsave(\"f1_dollar.jpg\", mystery)"
      ],
      "execution_count": null,
      "outputs": [
        {
          "output_type": "stream",
          "text": [
            "WARNING:root:Lossy conversion from float64 to uint8. Range [0, 1]. Convert image to uint8 prior to saving to suppress this warning.\n"
          ],
          "name": "stderr"
        }
      ]
    },
    {
      "cell_type": "markdown",
      "metadata": {
        "id": "N_xjm3exNdLv"
      },
      "source": [
        ""
      ]
    },
    {
      "cell_type": "code",
      "metadata": {
        "id": "zXqdO8Egs8mz"
      },
      "source": [
        "# filter 1.5: identity filter(kind of)\n",
        "filt15 = np.zeros((5, 5))\n",
        "filt15[2][2] = 1 "
      ],
      "execution_count": null,
      "outputs": []
    },
    {
      "cell_type": "code",
      "metadata": {
        "id": "DZv11HwHryal",
        "colab": {
          "base_uri": "https://localhost:8080/"
        },
        "outputId": "6999904f-801e-4f5c-8e42-1cd4888f6af1"
      },
      "source": [
        "# filter 2: Contrast filter(brings out smaller details)\n",
        "filt2 = np.array([[-1/9, -1/9, -1/9],\n",
        "                  [-1/9, 10 - 1/9, -1/9],\n",
        "                  [-1/9, -1/9, -1/9]])\n",
        "\n",
        "mystery = scipy.signal.signaltools.correlate2d(dollar, filt2)\n",
        "mystery = (mystery - np.min(mystery))/(np.max(mystery) - np.min(mystery))\n",
        "\n",
        "io.imsave(\"f2_dollar.jpg\", mystery) "
      ],
      "execution_count": null,
      "outputs": [
        {
          "output_type": "stream",
          "text": [
            "WARNING:root:Lossy conversion from float64 to uint8. Range [0, 1]. Convert image to uint8 prior to saving to suppress this warning.\n"
          ],
          "name": "stderr"
        }
      ]
    },
    {
      "cell_type": "code",
      "metadata": {
        "id": "74tzN1f1xPmF",
        "colab": {
          "base_uri": "https://localhost:8080/",
          "height": 285
        },
        "outputId": "9be66a2b-e0c1-4092-c66c-2e8681399f06"
      },
      "source": [
        "# filter 3: Gaussian Filter\n",
        "filt3 = np.zeros((101,101))\n",
        "filt3[50][50] = 1\n",
        "filt3 = gaussian(filt3, sigma=2)\n",
        "\n",
        "plt.imshow(filt3)\n",
        "plt.show()\n",
        "\n",
        "mystery = scipy.signal.signaltools.correlate2d(dollar, filt3)\n",
        "mystery = (mystery - np.min(mystery))/(np.max(mystery) - np.min(mystery))\n",
        "\n",
        "io.imsave(\"f3_dollar.jpg\", mystery) "
      ],
      "execution_count": null,
      "outputs": [
        {
          "output_type": "display_data",
          "data": {
            "image/png": "[encoded data removed]",
            "text/plain": [
              "<Figure size 432x288 with 1 Axes>"
            ]
          },
          "metadata": {
            "tags": [],
            "needs_background": "light"
          }
        },
        {
          "output_type": "stream",
          "text": [
            "WARNING:root:Lossy conversion from float64 to uint8. Range [0, 1]. Convert image to uint8 prior to saving to suppress this warning.\n"
          ],
          "name": "stderr"
        }
      ]
    },
    {
      "cell_type": "code",
      "metadata": {
        "id": "vMJ-FAhp1xM9",
        "colab": {
          "base_uri": "https://localhost:8080/"
        },
        "outputId": "9850ea02-045c-4967-85e3-2d6232468cf0"
      },
      "source": [
        "# Filter 4: Sobel Kernel Horizontal(Makes the Textured Feel)\n",
        "\n",
        "filt4 = np.array([[1, 2, 1],\n",
        "                  [0, 0, 0],\n",
        "                  [-1, -2, -1]])\n",
        "\n",
        "mystery = scipy.signal.signaltools.correlate2d(dollar, filt4)\n",
        "mystery = (mystery - np.min(mystery))/(np.max(mystery) - np.min(mystery))\n",
        "\n",
        "io.imsave(\"f4_dollar.jpg\", mystery) "
      ],
      "execution_count": null,
      "outputs": [
        {
          "output_type": "stream",
          "text": [
            "WARNING:root:Lossy conversion from float64 to uint8. Range [0, 1]. Convert image to uint8 prior to saving to suppress this warning.\n"
          ],
          "name": "stderr"
        }
      ]
    },
    {
      "cell_type": "code",
      "metadata": {
        "id": "JPea7Zaq2oti"
      },
      "source": [
        "# Filter 5: Sobel Kernel Vertical(Makes the Textured Feel)\n",
        "\n",
        "filt5 = np.array([[1, 0, -1],\n",
        "                  [2, 0, -2],\n",
        "                  [1, 0, -1]])"
      ],
      "execution_count": null,
      "outputs": []
    },
    {
      "cell_type": "code",
      "metadata": {
        "id": "_u3ry0MOn0xz",
        "colab": {
          "base_uri": "https://localhost:8080/"
        },
        "outputId": "f8efb732-3c15-456d-e082-31499ca11b5e"
      },
      "source": [
        "mystery = scipy.signal.signaltools.correlate2d(dollar, filt5)\n",
        "mystery = (mystery - np.min(mystery))/(np.max(mystery) - np.min(mystery))\n",
        "\n",
        "io.imsave(\"f5_dollar.jpg\", mystery) "
      ],
      "execution_count": null,
      "outputs": [
        {
          "output_type": "stream",
          "text": [
            "WARNING:root:Lossy conversion from float64 to uint8. Range [0, 1]. Convert image to uint8 prior to saving to suppress this warning.\n"
          ],
          "name": "stderr"
        }
      ]
    },
    {
      "cell_type": "markdown",
      "metadata": {
        "id": "s-Q6N8P86ndr"
      },
      "source": [
        "## Edge Detection Filters\n"
      ]
    },
    {
      "cell_type": "code",
      "metadata": {
        "id": "dX67w7Iq3SBv",
        "colab": {
          "base_uri": "https://localhost:8080/"
        },
        "outputId": "4356ac5a-f2bd-4930-a718-4c689496474e"
      },
      "source": [
        "# Filter 6: Sobel Kernel Both Horizontal and Vertical(Makes the Textured Feel)\n",
        "\n",
        "mystery = scipy.signal.signaltools.correlate2d(dollar, filt4)\n",
        "mystery = (mystery - np.min(mystery))/(np.max(mystery) - np.min(mystery))\n",
        "\n",
        "mystery2 = scipy.signal.signaltools.correlate2d(dollar, filt5)\n",
        "mystery2 = (mystery2 - np.min(mystery2))/(np.max(mystery2) - np.min(mystery2))\n",
        "\n",
        "mystery3 = np.sqrt(mystery2**2 + mystery**2)\n",
        "\n",
        "io.imsave(\"f6_dollar.jpg\", mystery3) "
      ],
      "execution_count": null,
      "outputs": [
        {
          "output_type": "stream",
          "text": [
            "WARNING:root:Lossy conversion from float64 to uint8. Range [0.18299641147889012, 1.219977771203053]. Convert image to uint8 prior to saving to suppress this warning.\n"
          ],
          "name": "stderr"
        }
      ]
    },
    {
      "cell_type": "code",
      "metadata": {
        "id": "G58bM_ex8TUK"
      },
      "source": [
        "# Filter 7: Sobel Extra\n",
        "filt7 = skimage.filters.sobel(dollar)\n",
        "io.imsave(\"f7_dollar.jpg\", skimage.img_as_ubyte(filt7)) "
      ],
      "execution_count": null,
      "outputs": []
    },
    {
      "cell_type": "code",
      "metadata": {
        "id": "Y8T5Gab8_iz_",
        "colab": {
          "base_uri": "https://localhost:8080/"
        },
        "outputId": "880378bb-657a-4d5c-9c14-47de06a0ecc3"
      },
      "source": [
        "# Filter 8: Canny Filter\n",
        "\n",
        "filt8 = skimage.feature.canny(dollar, sigma=1)\n",
        "\n",
        "mystery = scipy.signal.signaltools.correlate2d(dollar, filt8)\n",
        "mystery = (mystery - np.min(mystery))/(np.max(mystery) - np.min(mystery))\n",
        "\n",
        "io.imsave(\"f8_dollar.jpg\", mystery) "
      ],
      "execution_count": null,
      "outputs": [
        {
          "output_type": "stream",
          "text": [
            "WARNING:root:Lossy conversion from float32 to uint8. Range [0, 1]. Convert image to uint8 prior to saving to suppress this warning.\n"
          ],
          "name": "stderr"
        }
      ]
    },
    {
      "cell_type": "code",
      "metadata": {
        "id": "-jNnnE6U3CMd"
      },
      "source": [
        "sp_dollar = skimage.util.random_noise(dollar, \"s&p\")"
      ],
      "execution_count": null,
      "outputs": []
    },
    {
      "cell_type": "code",
      "metadata": {
        "id": "WZojIQTW3rrY"
      },
      "source": [
        "sp_blurred = scipy.signal.signaltools.correlate2d(sp_dollar, filt1)\n",
        "io.imsave(\"sp_dollar_blurred.jpg\", sp_blurred)"
      ],
      "execution_count": null,
      "outputs": []
    },
    {
      "cell_type": "code",
      "metadata": {
        "id": "kcAAGg0o5Cua"
      },
      "source": [
        "med_plant = skimage.filters.median(sp_dollar)\n",
        "io.imsave(\"sp_dollar_median.jpg\", med_plant)"
      ],
      "execution_count": null,
      "outputs": []
    },
    {
      "cell_type": "markdown",
      "metadata": {
        "id": "7rcrlRbUC4gL"
      },
      "source": [
        "## Corner Detection"
      ]
    },
    {
      "cell_type": "code",
      "metadata": {
        "id": "2U6F-83CC9vc"
      },
      "source": [
        "Hrr, Hrc, Hcc = skimage.feature.hessian_matrix(dollar)\n",
        "plt.imshow(Hrc, cmap=\"gray\")"
      ],
      "execution_count": null,
      "outputs": []
    },
    {
      "cell_type": "code",
      "metadata": {
        "id": "Yob6i3oCIHPP"
      },
      "source": [
        "#blurred = skimage.filters.gaussian(dollar, sigma=0.1)\n",
        "harris_im = skimage.feature.corner_harris(dollar)\n",
        "io.imsave(\"corner_harris_im.jpg\", harris_im)\n",
        "plt.imshow(harris_im, cmap=\"gray\")"
      ],
      "execution_count": null,
      "outputs": []
    },
    {
      "cell_type": "code",
      "metadata": {
        "id": "uNKybLFJJ35B"
      },
      "source": [
        "peaks_im = skimage.feature.corner_peaks(dollar)\n",
        "io.imsave(\"corner_peaks_im.jpg\", peaks_im)\n",
        "plt.imshow(peaks_im, cmap=\"gray\")"
      ],
      "execution_count": null,
      "outputs": []
    },
    {
      "cell_type": "code",
      "metadata": {
        "id": "jDbNAZ-iUpt-"
      },
      "source": [
        "image = cv.imread(\"googlechrome.jpg\", cv.IMREAD_GRAYSCALE)\n",
        "#image2 = cv.imread(\"dollar2.png\", cv.IMREAD_GRAYSCALE)"
      ],
      "execution_count": null,
      "outputs": []
    },
    {
      "cell_type": "code",
      "metadata": {
        "id": "ayHK3IgcLE9T"
      },
      "source": [
        "kaze = cv.AKAZE_create()\n",
        "kps, descs = kaze.detectAndCompute(dollar, image)"
      ],
      "execution_count": null,
      "outputs": []
    },
    {
      "cell_type": "code",
      "metadata": {
        "id": "DVbGwKenLXlW",
        "colab": {
          "base_uri": "https://localhost:8080/"
        },
        "outputId": "9fcaca02-a2fc-4931-b7db-00519121d4a9"
      },
      "source": [
        "for i in range (0,5):\n",
        "  print(kps[i].pt)\n",
        "  print(kps[i].size)"
      ],
      "execution_count": null,
      "outputs": [
        {
          "output_type": "stream",
          "text": [
            "(544.84765625, 35.898536682128906)\n",
            "4.800000190734863\n",
            "(574.177490234375, 36.179222106933594)\n",
            "4.800000190734863\n",
            "(521.303466796875, 36.87872314453125)\n",
            "4.800000190734863\n",
            "(509.96893310546875, 38.29519271850586)\n",
            "4.800000190734863\n",
            "(590.3525390625, 38.76235580444336)\n",
            "4.800000190734863\n"
          ],
          "name": "stdout"
        }
      ]
    },
    {
      "cell_type": "code",
      "metadata": {
        "id": "H0GBQenoMRuj",
        "colab": {
          "base_uri": "https://localhost:8080/",
          "height": 259
        },
        "outputId": "95513133-91d8-4a4d-fda1-38a6a621b729"
      },
      "source": [
        "def draw_kps(im, kps, col, th):\n",
        "  for kp in kps:\n",
        "    x = np.int(kp.pt[0])\n",
        "    y = np.int(kp.pt[1])\n",
        "    size = np.int(kp.size)\n",
        "    cv.circle(im, (x, y), size, col, thickness=th, lineType=8, shift=0)\n",
        "    plt.imshow(im, cmap=\"gray\")\n",
        "  return im\n",
        "\n",
        "im_circles = draw_kps(dollar.copy(), kps, (0, 255, 0), 1)\n",
        "plt.show()"
      ],
      "execution_count": null,
      "outputs": [
        {
          "output_type": "display_data",
          "data": {
            "image/png": "[encoded data removed]",
            "text/plain": [
              "<Figure size 432x288 with 1 Axes>"
            ]
          },
          "metadata": {
            "tags": [],
            "needs_background": "light"
          }
        }
      ]
    }
  ]
}