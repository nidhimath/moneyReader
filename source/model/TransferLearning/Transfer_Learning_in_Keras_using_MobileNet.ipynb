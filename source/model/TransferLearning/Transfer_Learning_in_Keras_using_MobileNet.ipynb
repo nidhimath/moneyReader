{
  "nbformat": 4,
  "nbformat_minor": 0,
  "metadata": {
    "colab": {
      "name": "Transfer Learning in Keras using MobileNet.ipynb",
      "provenance": [],
      "collapsed_sections": [],
      "authorship_tag": "ABX9TyPTQ6n+lSoUfUFnDCVyw/uM",
      "include_colab_link": true
    },
    "kernelspec": {
      "display_name": "Python 3",
      "name": "python3"
    }
  },
  "cells": [
    {
      "cell_type": "markdown",
      "metadata": {
        "id": "view-in-github",
        "colab_type": "text"
      },
      "source": [
        "<a href=\"https://colab.research.google.com/github/nidhimath/moneyReader/blob/master/source/model/TransferLearning/Transfer_Learning_in_Keras_using_MobileNet.ipynb\" target=\"_parent\"><img src=\"https://colab.research.google.com/assets/colab-badge.svg\" alt=\"Open In Colab\"/></a>"
      ]
    },
    {
      "cell_type": "code",
      "metadata": {
        "id": "0Q3qcpEK4CX-"
      },
      "source": [
        "import keras\n",
        "from keras import backend as K\n",
        "from keras.layers.core import Dense, Activation\n",
        "from keras.optimizers import Adam\n",
        "from keras.metrics import categorical_crossentropy\n",
        "from keras.preprocessing.image import ImageDataGenerator\n",
        "from keras.preprocessing import image\n",
        "from keras.models import Model\n",
        "from keras.applications import imagenet_utils\n",
        "from keras.layers import Dense,GlobalAveragePooling2D\n",
        "from tensorflow.keras.applications.mobilenet import MobileNet\n",
        "from keras.applications.mobilenet import preprocess_input\n",
        "import numpy as np\n",
        "from IPython.display import Image\n",
        "from keras.optimizers import Adam"
      ],
      "execution_count": null,
      "outputs": []
    },
    {
      "cell_type": "code",
      "metadata": {
        "id": "V-A0HhMn4IVD",
        "colab": {
          "base_uri": "https://localhost:8080/"
        },
        "outputId": "4dc5c00e-aeb4-473e-e53c-eb5002fcbbff"
      },
      "source": [
        "mobile = keras.applications.mobilenet.MobileNet()"
      ],
      "execution_count": null,
      "outputs": [
        {
          "output_type": "stream",
          "text": [
            "Downloading data from https://storage.googleapis.com/tensorflow/keras-applications/mobilenet/mobilenet_1_0_224_tf.h5\n",
            "17227776/17225924 [==============================] - 0s 0us/step\n",
            "17235968/17225924 [==============================] - 0s 0us/step\n"
          ],
          "name": "stdout"
        }
      ]
    },
    {
      "cell_type": "code",
      "metadata": {
        "id": "LQb3_Awz4M_k"
      },
      "source": [
        "def prepare_image(file):\n",
        "    img_path = ''\n",
        "    img = image.load_img(img_path + file, target_size=(224, 224))\n",
        "    img_array = image.img_to_array(img)\n",
        "    img_array_expanded_dims = np.expand_dims(img_array, axis=0)\n",
        "    return keras.applications.mobilenet.preprocess_input(img_array_expanded_dims)"
      ],
      "execution_count": null,
      "outputs": []
    },
    {
      "cell_type": "code",
      "metadata": {
        "colab": {
          "base_uri": "https://localhost:8080/"
        },
        "id": "iariVVXB4NhP",
        "outputId": "79901cec-3828-4334-e2c0-2097c6ae5d4e"
      },
      "source": [
        "#!pip uninstall google_images_download\n",
        "!pip install git+https://github.com/Joeclinton1/google-images-download.git\n",
        "\n",
        "#!pip install google_images_download"
      ],
      "execution_count": null,
      "outputs": [
        {
          "output_type": "stream",
          "text": [
            "Collecting git+https://github.com/Joeclinton1/google-images-download.git\n",
            "  Cloning https://github.com/Joeclinton1/google-images-download.git to /tmp/pip-req-build-4lg0h3dn\n",
            "  Running command git clone -q https://github.com/Joeclinton1/google-images-download.git /tmp/pip-req-build-4lg0h3dn\n",
            "Collecting selenium\n",
            "\u001b[?25l  Downloading https://files.pythonhosted.org/packages/80/d6/4294f0b4bce4de0abf13e17190289f9d0613b0a44e5dd6a7f5ca98459853/selenium-3.141.0-py2.py3-none-any.whl (904kB)\n",
            "\u001b[K     |████████████████████████████████| 911kB 27.8MB/s \n",
            "\u001b[?25hRequirement already satisfied: urllib3 in /usr/local/lib/python3.7/dist-packages (from selenium->google-images-download==2.8.0) (1.24.3)\n",
            "Building wheels for collected packages: google-images-download\n",
            "  Building wheel for google-images-download (setup.py) ... \u001b[?25l\u001b[?25hdone\n",
            "  Created wheel for google-images-download: filename=google_images_download-2.8.0-py2.py3-none-any.whl size=15945 sha256=f2977a4131674ee5e4259d39951b4d706f33cb57a1be555486067f3627c52903\n",
            "  Stored in directory: /tmp/pip-ephem-wheel-cache-0sikgjc0/wheels/1a/36/c9/53bd827bc241b69fe47b90731625459627f82694ecd8a88273\n",
            "Successfully built google-images-download\n",
            "Installing collected packages: selenium, google-images-download\n",
            "Successfully installed google-images-download-2.8.0 selenium-3.141.0\n"
          ],
          "name": "stdout"
        }
      ]
    },
    {
      "cell_type": "code",
      "metadata": {
        "id": "C1R0E4_W4mbd"
      },
      "source": [
        "from google_images_download import google_images_download"
      ],
      "execution_count": null,
      "outputs": []
    },
    {
      "cell_type": "code",
      "metadata": {
        "id": "fpUqHXVA4mgA"
      },
      "source": [
        "response = google_images_download.googleimagesdownload()"
      ],
      "execution_count": null,
      "outputs": []
    },
    {
      "cell_type": "code",
      "metadata": {
        "id": "wwuOxJ_F4mjd",
        "colab": {
          "base_uri": "https://localhost:8080/"
        },
        "outputId": "41d1b58d-b5c2-4433-e786-8180267cdaa1"
      },
      "source": [
        "arguments = {\"keywords\":\"10 rupees high quality indian currency\",\"limit\":50,\"print_urls\":False, \"format\":\"jpg\", \"size\":\">400*300\"}\n",
        "paths = response.download(arguments)"
      ],
      "execution_count": null,
      "outputs": [
        {
          "output_type": "stream",
          "text": [
            "\n",
            "Item no.: 1 --> Item name = 10 rupees high quality indian currency\n",
            "Evaluating...\n",
            "Starting Download...\n",
            "Completed Image ====> 1.india_new_10_inr%2c_mg_series%2c_2018%2c_obverse.jpg\n",
            "Completed Image ====> 2.10-indian-rupees-banknote-gandhi-no-date-obverse-1.jpg\n",
            "Completed Image ====> 3.10-indian-rupees-banknote-obverse-1.jpg\n",
            "Completed Image ====> 4.india%2010%20rupees%2c%202018%2c%20p-new%2c%20unc.jpg\n",
            "Completed Image ====> 5.10-indian-rupees-banknote-ashoka-chakra-obverse-3.jpg\n",
            "Completed Image ====> 6.10-indian-rupees-banknote-reverse-1.jpg\n",
            "Completed Image ====> 7.cdb95227da8a92f185ea27fb44acea11.jpg\n",
            "Completed Image ====> 8.rup_647_032217125524.jpg\n",
            "Completed Image ====> 9.10-rupees-banknote-mahatma-gandhi-india-2006-eh3n43.jpg\n",
            "Completed Image ====> 10.s-l400.jpg\n",
            "Completed Image ====> 11.1996-10-rupee.jpg\n",
            "Completed Image ====> 12.new-indian-currency-of-10-rupee-note-2f7emw8.jpg\n",
            "Completed Image ====> 13.assam-india-march-30-2021-indian-new-10-rupees-note-stock-image-2fk9cj8.jpg\n",
            "Completed Image ====> 14.products-32587.jpg\n",
            "Completed Image ====> 15.2722a3c00aff2ac79688eec4d49080b0.jpg\n",
            "Completed Image ====> 16.10-indian-rupees-banknote-three-lions-obverse-1.jpg\n",
            "Completed Image ====> 17.indian-currency-of-10-rupee-note-on-white-isolated-background-indian-currency-rupee-indian-rupeeindian-money-2bbew87.jpg\n",
            "Completed Image ====> 18.rs-10-notes_650x400_71515153579.jpg.webp\n",
            "Completed Image ====> 19.indian-currency-10-rs-note-placed-diagonally-on-a-white-background-t0cb7r.jpg\n",
            "Completed Image ====> 20.indian-currency-rupees-white-backround-indian-currency-rupees-white-background-business-presentations-119085081.jpg\n",
            "Completed Image ====> 21.rupee-bank-note-banknote-currency.jpg\n",
            "Completed Image ====> 22.elephant-rhinoceros-and-tiger-depicted-on-indian-bank-note-ten-rupees-10-rupee-national-currency-of-india-inr-orange-money-bill-close-up-2anh8my.jpg\n",
            "Completed Image ====> 23.138324565-mahatma-gandhi-face-on-indian-bank-note-ten-rupees-10-rupee-national-currency-of-india-inr-orange-mo.jpg\n",
            "Completed Image ====> 24.2020-12-30t174220z_1_lynxmpegbt15q_rtroptp_3_india-markets-rupee_1611491434482_1611491467531.jpg\n",
            "Completed Image ====> 25.3220f2dd8d20525372e536536b19c567.jpg\n",
            "Completed Image ====> 26.india-10-rupee-inr-1981-asia-as-60.jpg\n",
            "Completed Image ====> 27.indian-money-and-banknotes-500-50-and-10-rupees-lie-on-a-marble-picture-id1064511758.jpg\n",
            "Completed Image ====> 28.s-l600.jpg\n",
            "Completed Image ====> 29.maxresdefault.jpg\n",
            "Completed Image ====> 30.close-up-indian-rupee-banknotes-for-india-economy-indian-currency-gandhi-india-inflation-old-style-10-rupee-banknote-2da770a.jpg\n",
            "URLError on an image...trying next one... Error: <urlopen error timed out>\n",
            "URLError on an image...trying next one... Error: <urlopen error timed out>\n",
            "Completed Image ====> 31.32190943222_d2f38af525_k-a26a5d1ea4b84606a0291832861cd61d.jpg\n",
            "Completed Image ====> 32.indian-currency-picture-id184947661.jpg\n",
            "Completed Image ====> 33.8077617027_017294058b_b.jpg\n",
            "Completed Image ====> 34.maxresdefault.jpg\n",
            "Completed Image ====> 35.360_f_361907675_g31lzfriuosiv3p0ldzjqlrgtatjyns5.jpg\n",
            "Completed Image ====> 36.stock-photo-indian-rupee-currency-rupee-currency-notes-demonetization-of-and-rupee-notes-has-532321696.jpg\n",
            "Completed Image ====> 37.shutterstock_1097144396.jpg\n",
            "Completed Image ====> 38.products-32617.jpg\n",
            "Completed Image ====> 39.inr4-4a0d97c5a50e453db97e2e3487c817a3.jpg\n",
            "Completed Image ====> 40.57_aeadec04-b218-4e31-b8c7-c93494b389c3_1024x1024@2x.jpg\n",
            "Completed Image ====> 41.1017297098_o.jpg\n",
            "Completed Image ====> 42.a-close-up-image-of-indian-10-rupee-notes-mtfctb.jpg\n",
            "Completed Image ====> 43.new-indian-currency-rupees-notes-chart-paper-pen-isolated-wooden-background-131806887.jpg\n",
            "Completed Image ====> 44.125058283-indian-money-and-banknotes-2000-500-100-50-and-10-rupees-lie-on-a-marble-background-.jpg\n",
            "Completed Image ====> 45.rupee-note.jpg\n",
            "Completed Image ====> 46.india-10-font-b-rupees-b-font-2018-p-new-original-banknote-world-collection-genuine-real.jpg\n",
            "Completed Image ====> 47.depositphotos_210565452-stock-photo-close-image-indian-rupee-bank.jpg\n",
            "Completed Image ====> 48.lf.jpg\n",
            "Completed Image ====> 49.indian-currency-bank-notes-of-10-20-rupees-indian-currency-note-folded-on-white-background-2af6w11.jpg\n",
            "Completed Image ====> 50.chinese-100-yuan-bank-note-with-10-indian-rupee-picture-id1018011222.jpg\n",
            "\n",
            "Errors: 2\n",
            "\n"
          ],
          "name": "stdout"
        }
      ]
    },
    {
      "cell_type": "code",
      "metadata": {
        "id": "EpeRCtHA7-3u",
        "colab": {
          "base_uri": "https://localhost:8080/"
        },
        "outputId": "a178f8e3-a3f1-4fee-e00c-8ec695711da0"
      },
      "source": [
        "arguments = {\"keywords\":\"20 rupees high quality indian currency\",\"limit\":100,\"print_urls\":False, \"format\":\"jpg\", \"size\":\">400*300\"}\n",
        "paths = response.download(arguments)"
      ],
      "execution_count": null,
      "outputs": [
        {
          "output_type": "stream",
          "text": [
            "\n",
            "Item no.: 1 --> Item name = 20 rupees high quality indian currency\n",
            "Evaluating...\n",
            "Starting Download...\n",
            "Completed Image ====> 1.india_new_20_inr%2c_mg_series%2c_2019%2c_obverse.jpg\n",
            "Completed Image ====> 2.20-indian-rupees-banknote-gandhi-no-date-obverse-1.jpg\n",
            "Completed Image ====> 3.20-indian-rupees-banknote-obverse-1.jpg\n",
            "Completed Image ====> 4.india-2019-20-rup-header.jpg\n",
            "Completed Image ====> 5.products-32605.jpg\n",
            "Completed Image ====> 6..jpg\n",
            "Completed Image ====> 7.india-20-rupee-bank-note-b2ppkc.jpg\n",
            "Completed Image ====> 8.india-2019-20-rup-pair.jpg\n",
            "Completed Image ====> 9.20-rupee-bill-india-red-260nw-9184078.jpg\n",
            "Completed Image ====> 10.india-20-twenty-rupee-bank-note-c7jp5m.jpg\n",
            "Completed Image ====> 11..jpg\n",
            "Completed Image ====> 12.996ef156169a3893055ee855af4b5b5a.jpg\n",
            "Completed Image ====> 13.20-rupees-banknote-mahatma-gandhi-india-2006-eh3fg3.jpg\n",
            "Completed Image ====> 14.indian-currency-note-rupees-coins-white-background-indian-currency-note-rupees-coins-rupees-white-background-132807756.jpg\n",
            "Completed Image ====> 15.5e96bdf7143e00.03504498-original.jpg\n",
            "Completed Image ====> 16.60745931d4182876ffbda698be45b431.jpg\n",
            "Completed Image ====> 17.ten-rupees-note.jpg\n",
            "Completed Image ====> 18.main-qimg-e074ab8623e60ae39585cfa80c2825eb.jpg\n",
            "Completed Image ====> 19.indc20.jpg\n",
            "Completed Image ====> 20.twenty-518048_960_720.jpg\n",
            "Completed Image ====> 21.an-indian-bank-note-featuring-mahatma-gandhi-of-20-rupees-b4tw3p.jpg\n",
            "Completed Image ====> 22.f1ae2f03a327d01df08cf0c8c6c8eacf.jpg\n",
            "Completed Image ====> 23.6211292442977562583.jpg\n",
            "Completed Image ====> 24.inr4-4a0d97c5a50e453db97e2e3487c817a3.jpg\n",
            "Completed Image ====> 25.1200px-india_new_2000_inr%2c_mg_series%2c_2016%2c_obverse.jpg\n",
            "Completed Image ====> 26.rupee-l-ie.jpg\n",
            "Completed Image ====> 27.jby37h3genjkrm56uh5zokgnsq.jpg\n",
            "Completed Image ====> 28.img760_011.jpg\n",
            "Completed Image ====> 29.demonitization-indian-rupee-2000-currency-note-after_e3f03f78-e6af-11ea-8811-9dd7c7000caf.jpg\n",
            "Completed Image ====> 30.products-32589.jpg\n",
            "Completed Image ====> 31.s-l400.jpg\n",
            "Completed Image ====> 32.rupee-vs-dollar-1594990691.jpg\n",
            "Completed Image ====> 33.600c0ec1115d55.23426928-original.jpg\n",
            "Completed Image ====> 34.1000_f_32052775_128jtx8ahogew0j6vza2bv0knvwrg3o7.jpg\n",
            "Completed Image ====> 35.indian-currency-twenty-rupee-note-reserve-bank-government-of-india-bjd1hk.jpg\n",
            "Completed Image ====> 36.1976-10-rupee.jpg\n",
            "Completed Image ====> 37.20%20rupee%20-%20cpd.jpg\n",
            "Completed Image ====> 38.rs-20-back.jpg\n",
            "Completed Image ====> 39.indian-currency-note-rupees-reserve-bank-india-mahatma-gandhi-ji-photo-132807929.jpg\n",
            "Completed Image ====> 40.uo_1576787397-1599-1.jpg\n",
            "Completed Image ====> 41.shutterstock_256864129-5bfc35f7c9e77c005181b84a.jpg\n",
            "Completed Image ====> 42.maxresdefault.jpg\n",
            "Completed Image ====> 43.chxih7ks1j0kgsog_1610031175.jpeg\n",
            "Completed Image ====> 44.india-20-rupee-inr-1983-asia-as-575.jpg\n",
            "Completed Image ====> 45.concept-of-indian-currency-twenty-rupee-note-india-asia-picture-id521725332.jpg\n",
            "Completed Image ====> 46.banknote_of_india.jpg\n",
            "Completed Image ====> 47.inr_20.jpg\n",
            "Completed Image ====> 48.bond-kx6g--621x414@livemint_1596449244801.jpg.webp\n",
            "Completed Image ====> 49.20-rupee-old-note-1980-260nw-1480626779.jpg\n",
            "Completed Image ====> 50.indian-rupees759.jpg\n",
            "Completed Image ====> 51.20-indian-rupees-banknote-three-lions-obverse-1.jpg\n",
            "Completed Image ====> 52.rupee_money_660_080720041626_280820042135.jpg\n",
            "Completed Image ====> 53.photo-1582181774491-11853e42c076.jpg\n",
            "Completed Image ====> 54.2020-12-30t174220z_1_lynxmpegbt15q_rtroptp_3_india-markets-rupee_1611491434482_1611491467531.jpg\n",
            "Completed Image ====> 55.maxresdefault.jpg\n",
            "Completed Image ====> 56.2001-5-rupees.jpg\n",
            "Completed Image ====> 57.indian-currency-note-rupees-coins-rupees-background-reserve-bank-india-mahatma-gandhi-ji-photo-indian-currency-132807706.jpg\n",
            "Completed Image ====> 58.depositphotos_327322404-stock-photo-the-girl-holds-indian-rupees.jpg\n",
            "Completed Image ====> 59.rupee31.jpg.webp\n",
            "Completed Image ====> 60.309594c23d4ec70ece5a194610b6802c.jpg\n",
            "Completed Image ====> 61.500_f_296566306_6awa0kn6csyxfthjfdkz84r97zairakn.jpg\n",
            "Completed Image ====> 62.1579669881_4lhrzh_500_and_2000_rs_currency_548x411.jpg\n",
            "Completed Image ====> 63.untitled-design-6-6-1280x720.jpg\n",
            "Completed Image ====> 64.cg230l3_rupee-gallery-cover-reuters_625x300_25_february_20.jpg.webp\n",
            "Completed Image ====> 65.indian-rupee-currency-paper-money-bank-note-5-10-20-50-1000.jpg\n",
            "Completed Image ====> 66.indian-rupee.jpg\n",
            "Completed Image ====> 67.indian-rupee.jpg\n",
            "Completed Image ====> 68.odd8ncw7bsk31.jpg\n",
            "Completed Image ====> 69.32190943222_d2f38af525_k-a26a5d1ea4b84606a0291832861cd61d.jpg\n",
            "Completed Image ====> 70.rupee-vs-dollar-4670727_571_855_570_850.jpg\n",
            "Completed Image ====> 71.india_new_500_inr%2c_mg_series%2c_2016%2c_obverse.jpg\n",
            "IOError on an image...trying next one... Error: The read operation timed out\n",
            "Completed Image ====> 72.152-1522654_twenty-rupee-note-clip-arts-indian-currency-hd.png\n",
            "Completed Image ====> 73.stock-photo-currency-notes-indian-indian-currency-notes-10rupees-20rupees-50rupees-100rupees-200rupees-4d4137b3-343c-47bb-a712-ba14b045c845.jpg\n",
            "Completed Image ====> 74.il_570xn.1773919007_qep7.jpg\n",
            "Completed Image ====> 75.indian-rupee-currency-paper-money-bank-note-1-2-5-10-20-50-100-500-1000-_1.jpg\n",
            "Completed Image ====> 76.135072544-indian-currency-bank-notes-of-10-20-rupees-indian-currency-note-folded-on-white-background.jpg\n",
            "Invalid image format 'text/plain'. Skipping...\n",
            "Completed Image ====> 77.india-20-rupee-inr-2016-asia-as-635.jpg\n",
            "Completed Image ====> 78.indian-currency-20-twenty-rupees-banknotes.jpg\n",
            "Invalid image format 'application/octet-stream'. Skipping...\n",
            "Completed Image ====> 79.20rs.jpg\n",
            "URLError on an image...trying next one... Error: HTTP Error 403: Forbidden\n",
            "Completed Image ====> 80.rupee_down_16-9_356x200_2110_356.jpg.webp\n",
            "Completed Image ====> 81.s-l400.jpg\n",
            "Completed Image ====> 82.hqdefault.jpg\n",
            "Completed Image ====> 83.indian-rupee-currency-20-notes-600w-532321711.jpg\n",
            "Completed Image ====> 84.note.jpg\n",
            "Completed Image ====> 85.jju70sfupe031.jpg\n",
            "Completed Image ====> 86.indian-currency-notes-rupees-coins-rupees-arranged-tower-form-reserve-bank-india-indian-currency-notes-132807765.jpg\n",
            "Completed Image ====> 87.f20ae09b2bf149af2d175e159d44b7bb.jpg\n",
            "Completed Image ====> 88.ttnoshipqysv9ln7sscl.jpg\n",
            "Invalid image format 'text/plain'. Skipping...\n",
            "Completed Image ====> 89.rs2000-notes-opt-1280x720-1024x576.jpg\n",
            "Completed Image ====> 90.esy-001788350.jpg\n",
            "Completed Image ====> 91.ind_p061_b247_20_rup-xs.jpg\n",
            "Completed Image ====> 92.20-rupees-note-of-2001.jpg\n",
            "Completed Image ====> 93.1976-5-rupee.jpg\n",
            "Completed Image ====> 94.$_1.jpg\n",
            "Completed Image ====> 95.indian-rupee_177ec4e2db5_medium.jpg\n",
            "\n",
            "\n",
            "Unfortunately all 100 could not be downloaded because some images were not downloadable. 95 is all we got for this search filter!\n",
            "\n",
            "Errors: 5\n",
            "\n"
          ],
          "name": "stdout"
        }
      ]
    },
    {
      "cell_type": "code",
      "metadata": {
        "colab": {
          "base_uri": "https://localhost:8080/"
        },
        "id": "nosZ41U0iYP0",
        "outputId": "847c68b1-1406-4da6-9db3-c6ad1c0c67ec"
      },
      "source": [
        "arguments = {\"keywords\":\"50 rupees high quality indian currency\",\"limit\":100,\"print_urls\":False, \"format\":\"jpg\", \"size\":\">400*300\"}\n",
        "paths = response.download(arguments)"
      ],
      "execution_count": null,
      "outputs": [
        {
          "output_type": "stream",
          "text": [
            "\n",
            "Item no.: 1 --> Item name = 50 rupees high quality indian currency\n",
            "Evaluating...\n",
            "Starting Download...\n",
            "Completed Image ====> 1.india_new_50_inr%2c_mg_series%2c_2018%2c_obverse.jpg\n",
            "Completed Image ====> 2.50-indian-rupees-banknote-with-date-obverse.jpg\n",
            "Completed Image ====> 3.50-indian-rupees-banknote-three-lions-1.jpg\n",
            "Completed Image ====> 4.50-indian-rupees-banknote-gandhi-no-date-obverse-1.jpg\n",
            "Completed Image ====> 5.indian-50-rupees-banknote-ce6f8c.jpg\n",
            "Completed Image ====> 6.60121477.jpg\n",
            "Completed Image ====> 7.new-indian-currency-of-50-rupee-note-2f7emwa.jpg\n",
            "Completed Image ====> 8.5c612c11f289ainr%2050.jpg\n",
            "Completed Image ====> 9.1263895355256c8490ca1937243cf9e7.jpg\n",
            "Completed Image ====> 10.50-rupees-banknote-mahatma-gandhi-india-2017-pwd22g.jpg\n",
            "Completed Image ====> 11.2.jpg\n",
            "Completed Image ====> 12.india-50-rupee-inr-2018-asia-as-644.jpg\n",
            "Completed Image ====> 13.50-indian-rupees-banknote-gandhi-hampi-with-chariot-reverse.jpg\n",
            "Completed Image ====> 14.indian-currency-fifty-rupee-note-reserve-bank-government-of-india-f3gbj7.jpg\n",
            "Completed Image ====> 15.depositphotos_217546186-stock-photo-new-indian-50-rupees-front.jpg\n",
            "Completed Image ====> 16.235607872.jpg\n",
            "Completed Image ====> 17.new-banknote-of-india-with-a-denomination-of-50-rupees-indian-of-picture-id1063050314.jpg\n",
            "Completed Image ====> 18.indian-currency-of-50-rupee-note-on-white-isolated-background-indian-currency-rupee-indian-rupeeindian-money-2bbewjh.jpg\n",
            "Completed Image ====> 19.bni0351-1280x720.jpg\n",
            "Completed Image ====> 20.1fd8b6f160c8f0407b6049c8c3a82f42.jpg\n",
            "Completed Image ====> 21.img348_014.jpg\n",
            "Completed Image ====> 22.depositphotos_281467246-stock-photo-a-new-banknote-of-india.jpg\n",
            "Completed Image ====> 23.india-50-rupee-inr-2010-asia-as-489.jpg\n",
            "Completed Image ====> 24.indian-currency-five-two-one-fifty-hundred-500-200-100-50-rupees-note-isolated-on-black-background-for-financial-marketing-purpose-2crpaec.jpg\n",
            "Completed Image ====> 25.360_f_201193343_au78f9qnldsqpx4sf2fpuns9g1y8izdi.jpg\n",
            "Completed Image ====> 26.front-of-new-indian-50-rupee-note-on-plain-background-2aacm5g.jpg\n",
            "Completed Image ====> 27.2.jpg\n",
            "Completed Image ====> 28.117517413-a-new-banknote-of-india-with-a-denomination-of-50-rupees-indian-currency-portrait-of-mahatma-gandhi-.jpg\n",
            "Completed Image ====> 29.new-indian-currency-of-50-rupee-note-indian-currency-isolated-on-white-krmae3.jpg\n",
            "Completed Image ====> 30.products-16452.jpg\n",
            "Completed Image ====> 31.old-50-indian-rupee-obverse-for-design-purpose-2efpwd8.jpg\n",
            "Completed Image ====> 32.117523171-a-new-banknote-of-india-with-a-denomination-of-50-rupees-indian-currency-portrait-of-mahatma-gandhi-.jpg\n",
            "Completed Image ====> 33.50-rupees-note.jpg\n",
            "Completed Image ====> 34.india-50-fifty-rupee-bank-note-c27nnk.jpg\n",
            "Completed Image ====> 35.117522782-a-new-banknote-of-india-with-a-denomination-of-50-rupees-indian-currency-mahatma-gandhi-and-rosary-b.jpg\n",
            "Completed Image ====> 36.rupees-587271_1920.jpg\n",
            "Completed Image ====> 37.shutterstock_1097144396.jpg\n",
            "Completed Image ====> 38.station-customer-hands-attendant-ahmedabad-indian-rupee_7d7cc0ac-2e69-11eb-b9a2-d7de0b3760e9.jpg.webp\n",
            "Completed Image ====> 39.pexels-photo-68912.jpeg\n",
            "Completed Image ====> 40.65dbf32d7ce81591de9b0e43a638abc3.jpg\n",
            "Completed Image ====> 41.50-indian-rupees-banknote-with-date-reverse.jpg\n",
            "Completed Image ====> 42.new-banknote-of-india-with-a-denomination-of-50-rupees-indian-and-picture-id1058220118.jpg\n",
            "Completed Image ====> 43.95c7e48dbf145b7bfccf3b80856166f8.jpg\n",
            "Completed Image ====> 44.photo-1565371434285-a35832a6586a.jpg\n",
            "Completed Image ====> 45.71d7696d5aefa5c74930fbe6fd7942c9.jpg\n",
            "Completed Image ====> 46.depositphotos_287429696-stock-photo-a-new-banknote-of-india.jpg\n",
            "Completed Image ====> 47.india-50-rupee-inr-1984-asia-as-37.jpg\n",
            "Completed Image ====> 48.banknote_of_india.jpg\n",
            "Completed Image ====> 49.indian-currency-note-50-rupees-picture-id855787974.jpg\n",
            "Completed Image ====> 50.117530011-a-new-banknote-of-india-with-a-denomination-of-50-rupees-indian-currency-mahatma-gandhi-and-rosary-b.jpg\n",
            "Completed Image ====> 51.500_f_199309628_na9ewslsiohooxh8eikchy1smzb81j5e.jpg\n",
            "Completed Image ====> 52.1_200315180503_1.jpg\n",
            "Completed Image ====> 53.bloombergquint%2f2016-12%2fee35ad78-4b33-4ba3-bed6-724c14e873bb%2f500-rupee-note-defect.jpg\n",
            "Completed Image ====> 54.india%20rupee%20-%20cpd.jpg\n",
            "Completed Image ====> 55.117523204-a-new-banknote-of-india-with-a-denomination-of-50-rupees-indian-currency-mahatma-gandhi-and-rosary-b.jpg\n",
            "Completed Image ====> 56.whatsapp_images_2019-01-09_at_4.jpeg\n",
            "Invalid image format 'application/octet-stream'. Skipping...\n",
            "Completed Image ====> 57.c0ccf5a2520f79d65346cf8997d2c9fd.jpg\n",
            "Completed Image ====> 58.rbi-to-issue-new-rs-50-currency-note.jpg\n",
            "Completed Image ====> 59.new-banknote-india-denomination-rupees-indian-new-banknote-india-denomination-rupees-indian-currency-132913242.jpg\n",
            "Completed Image ====> 60.0cb06c96a0ecd47dca7f7b627d41d7e2.jpg\n",
            "Completed Image ====> 61.depositphotos_287430144-stock-photo-a-new-banknote-of-india.jpg\n",
            "Completed Image ====> 62.new-banknote-india-denomination-rupees-indian-currency-other-side-hampi-s-chariot-134127298.jpg\n",
            "Completed Image ====> 63.india-1.jpg\n",
            "Completed Image ====> 64.27ba504e58dc0192cae0608920ba2203.jpg\n",
            "Completed Image ====> 65.s-l400.jpg\n",
            "Completed Image ====> 66.1-03-2019-reverse-of-the-50-rupee-bank-note-used-in-india-showing-heritage-site-hampi-karnataka-india-2agx4ce.jpg\n",
            "Completed Image ====> 67.02f117be46dea7955928b2b2175d683f.jpg\n",
            "Completed Image ====> 68.maxresdefault.jpg\n",
            "Completed Image ====> 69.153208248-closeup-of-brand-new-colorful-indian-currency-bank-notes-of-10-20-yellow-50-purple-100-200-500-and-p.jpg\n",
            "Completed Image ====> 70.twenty-paise-paise-rupee-rupee-rupee-rupee-old-indian-currency-twenty-paise-paise-rupee-rupee-rupee-rupee-old-indian-144665936.jpg\n",
            "Completed Image ====> 71.l_india_50_rupees_2017_pn_111a_banknote24_c.jpg\n",
            "Completed Image ====> 72.new-banknote-of-india-with-a-denomination-of-50-rupees-indian-of-picture-id1044909004.jpg\n",
            "Completed Image ====> 73.inr-indian-rupee-exchange-rates-gbp.jpg\n",
            "Completed Image ====> 74.indian-currency-note-50-rupees-picture-id855791846.jpg\n",
            "Completed Image ====> 75.india_new_20_inr%2c_mg_series%2c_2019%2c_obverse.jpg\n",
            "Completed Image ====> 76.235405180.jpg\n",
            "Completed Image ====> 77.253007560.jpg\n",
            "Completed Image ====> 78.new-indian-currency-of-50-rupee-note-indian-currency-isolated-on-white-krmada.jpg\n",
            "Completed Image ====> 79.5c612df148701inr%20100.jpg\n",
            "Completed Image ====> 80.ap_world-currency.jpg\n",
            "Completed Image ====> 81.dd73264b65969e4536fec20277a71b3c.jpg\n",
            "Completed Image ====> 82.rs-50-rbi_660_081817082809.jpg\n",
            "Completed Image ====> 83.photo-1582181774491-11853e42c076.jpg\n",
            "Completed Image ====> 84.indian-rupee-1619773226.jpg\n",
            "Completed Image ====> 85.50-rs.jpg\n",
            "Completed Image ====> 86.depositphotos_281650764-stock-photo-indian-money-and-banknotes-2000.jpg\n",
            "Completed Image ====> 87.india%2050%20rupees%2c%202017%2c%20p-111b%2c%20unc.jpg\n",
            "Completed Image ====> 88.book-50-indian-rupee-banknote-dollar-dollar-image.jpg\n",
            "Completed Image ====> 89.i0000ucnjqf6fuhc.jpg\n",
            "Completed Image ====> 90.stock-photo--new-indian-currency-rupee-d-rendered-image-774460549.jpg\n",
            "Completed Image ====> 91.new-banknote-india-denomination-rupees-indian-currency-mahatma-gandhi-rosary-beads-tulasi-tree-134902825.jpg\n",
            "Completed Image ====> 92.scan0001.jpg\n",
            "Completed Image ====> 93.32190943222_d2f38af525_k-a26a5d1ea4b84606a0291832861cd61d.jpg\n",
            "Completed Image ====> 94.indian_rupee_falls_47_paise_to_69_16a45061b96.82_against_us_dollar_in_early_trade_resources1_16a45061b96_large.jpg\n",
            "Completed Image ====> 95.lf.jpg\n",
            "Completed Image ====> 96.indian-currency-five-two-one-fifty-hundred-500-200-100-50-rupees-note-isolated-on-black-background-for-financial-marketing-purpose-2crpac3.jpg\n",
            "Completed Image ====> 97.lf.jpg\n",
            "Completed Image ====> 98.rupee-think-1200.jpg\n",
            "Completed Image ====> 99.india_1000_inr%2c_mg_series%2c_2006%2c_obverse.jpg\n",
            "\n",
            "Errors: 1\n",
            "\n"
          ],
          "name": "stdout"
        }
      ]
    },
    {
      "cell_type": "code",
      "metadata": {
        "colab": {
          "base_uri": "https://localhost:8080/"
        },
        "id": "BB-9YiRzibr1",
        "outputId": "dd2efa21-1289-46f5-a0e3-fac706924659"
      },
      "source": [
        "arguments = {\"keywords\":\"100 rupees high quality indian currency\",\"limit\":100,\"print_urls\":False, \"format\":\"jpg\", \"size\":\">400*300\"}\n",
        "paths = response.download(arguments)"
      ],
      "execution_count": null,
      "outputs": [
        {
          "output_type": "stream",
          "text": [
            "\n",
            "Item no.: 1 --> Item name = 100 rupees high quality indian currency\n",
            "Evaluating...\n",
            "Starting Download...\n",
            "Completed Image ====> 1.100-indian-rupees-banknote-obverse-1.jpg\n",
            "Completed Image ====> 2.100-indian-rupees-banknote-rani-ki-vav-obverse-4.jpg\n",
            "Completed Image ====> 3.5c612df148701inr-100.jpg\n",
            "Completed Image ====> 4.100-indian-rupees-banknote-gandhi-no-date-obverse-1.jpg\n",
            "Completed Image ====> 5.rbi-new-rs-100-note-pti-19july-2017_social.jpg.webp\n",
            "Completed Image ====> 6.maxresdefault.jpg\n",
            "Completed Image ====> 7.india-100-rupee-inr-2010-asia-as-490.jpg\n",
            "Completed Image ====> 8.100-indian-rupees-banknote-three-lions-obverse-1.jpg\n",
            "Completed Image ====> 9.india_1532073429_725x725.jpg\n",
            "Completed Image ====> 10.front-of-new-indian-100-rupee-note-on-plain-background-2aacm4w.jpg\n",
            "Completed Image ====> 11.100-indian-rupees-banknote-reverse-1.jpg\n",
            "Completed Image ====> 12.indian-currency-of-100-rupee-note-on-white-isolated-background-indian-currency-rupee-indian-rupeeindian-money-2bbew8y.jpg\n",
            "Completed Image ====> 13.62m0c9u8_rs-100-note-lavender-colour_650x400_19_july_18.jpg.webp\n",
            "Completed Image ====> 14.s-l400.jpg\n",
            "Completed Image ====> 15.indian-currency-of-100-rupee-note-on-white-isolated-background-indian-currency-rupee-indian-rupeeindian-money-2bbewd9.jpg\n",
            "Completed Image ====> 16.rbi-to-issue-new-100-rupees-note-with-motif-of-rani-ki-vav.jpg\n",
            "Completed Image ====> 17.rbi-to-issue-new-rs-100-currency-note-shortly.jpg\n",
            "Completed Image ====> 18.100-indian-rupee-note-closeup-cx0xd5.jpg\n",
            "Completed Image ====> 19.100note-kpyd--621x414@livemint.jpg.webp\n",
            "Completed Image ====> 20.100-rupee-currency-bill-of-india-high-res-cpy971.jpg\n",
            "Completed Image ====> 21.rbi-rs-100-note-1.jpg\n",
            "Completed Image ====> 22.v56gbh78_new-rs-100-note---rbi_625x300_19_july_18.jpg.webp\n",
            "Completed Image ====> 23.indian-currency-of-100-rupee-note-on-white-isolated-background-indian-currency-rupee-indian-rupeeindian-money-2bbewe1.jpg\n",
            "Completed Image ====> 24.freepressjournal%2fimport%2f2018%2f11%2fpic.jpg\n",
            "Completed Image ====> 25.indian-currency-close-up-of-a-one-hundred-rupee-note-in-white-background-d1fhaw.jpg\n",
            "Completed Image ====> 26.100-indian-rupees-banknote-asoka-large-type.jpg\n",
            "Completed Image ====> 27.500_f_252795632_shxeyuf8ukvzkc8ph17qdhm5feo49vms.jpg\n",
            "Completed Image ====> 28.india-100-rupee-inr-1979-asia-as-10.jpg\n",
            "Completed Image ====> 29.indian-currency-of-100-rupee-notes-isolated-on-the-white-background-r4ac89.jpg\n",
            "Completed Image ====> 30.sddefault.jpg\n",
            "Completed Image ====> 31.didbzrixuaallqm.jpg\n",
            "Completed Image ====> 32.2020-12-30t174220z_1_lynxmpegbt15q_rtroptp_3_india-markets-rupee_1611491434482_1611491467531.jpg\n",
            "Completed Image ====> 33.commercial-business-currency-presentation-picture-id1281788242.jpg\n",
            "Completed Image ====> 34.dpa-rmm-123420.jpg\n",
            "Completed Image ====> 35.rbi-100-issue-new-notes-denomination-rs_c0af939a-8b50-11e8-b2f4-2ee9fa0c7dec.jpg.webp\n",
            "Completed Image ====> 36.75657037.cms.jpg\n",
            "Completed Image ====> 37.new-rs-100-notes-lavender-759.jpg\n",
            "Completed Image ====> 38.s-l400.jpg\n",
            "Completed Image ====> 39.depositphotos_266801924-stock-photo-new-100-indian-rupee-currency.jpg\n",
            "Completed Image ====> 40.nepal-bans-indian-currency-notes-above-rupees-100-notes-outlook-traveller__jpg.jpg\n",
            "Completed Image ====> 41.gettyimages-1148456862-55201c4510f640e89bf07c872f910395.jpg\n",
            "Completed Image ====> 42.rs100.jpg\n",
            "Completed Image ====> 43.indian-100-rupee-notes-c8xx69.jpg\n",
            "Completed Image ====> 44.cnd-100-a-day.jpg\n",
            "Completed Image ====> 45.stock-photo-indian-currency-with-rupee-note-bundle-532321687.jpg\n",
            "Completed Image ====> 46.rupee-banknote-india-brand-new-indian-currency-notes-rupees-isolated-white-background-rupee-banknote-india-131555352.jpg\n",
            "Completed Image ====> 47.depositphotos_278827966-stock-photo-closeup-brand-new-colorful-indian.jpg\n",
            "Completed Image ====> 48.banknote_of_india.jpg\n",
            "Completed Image ====> 49.a39380feabb9021fb6c0803f2f07a313.jpg\n",
            "Completed Image ====> 50.01_reserve-bank-of-india-introduced-a-new-rs-100-note.jpg.webp\n",
            "Completed Image ====> 51.s-l400.jpg\n",
            "Completed Image ====> 52.indian-rupee.jpg\n",
            "Completed Image ====> 53.l_india-100-rupees-2008-plate-number-a-pn-98o-banknote24-c.jpg\n",
            "Completed Image ====> 54.ualbf4i8_new-rs-100-note---rbi_625x300_19_july_18.jpg.webp\n",
            "Completed Image ====> 55.maxresdefault.jpg\n",
            "Completed Image ====> 56.bc01603277284f4a821fc41d99172e22-bc01603277284f4a821fc41_hd-1.jpg\n",
            "Completed Image ====> 57.rupee4-klch--621x414@livemint.jpg.webp\n",
            "Completed Image ====> 58.maxresdefault.jpg\n",
            "Completed Image ====> 59.2018-07-18t063547z_1_lynxmpee6h093_rtroptp_3_india-budget.jpg\n",
            "Completed Image ====> 60.reserve-bank-of-india-100-rupee-lead.jpg\n",
            "Completed Image ====> 61.indian-currency-one-hundred-100-rupees-note-isolated-on-black-background-for-financial-marketing-purpose-2crp9ce.jpg\n",
            "Completed Image ====> 62.177965-fakeweb.jpg\n",
            "Completed Image ====> 63.main-qimg-414a759c2d4eddfbc9e5c1df5406aab6.jpg\n",
            "Completed Image ====> 64.indian-rupees-currency-notes-verified-different-colors-texture-values-181073182.jpg\n",
            "Completed Image ====> 65.depositphotos_6641779-stock-photo-india-rupees-hundred-note.jpg\n",
            "Completed Image ====> 66.100-rupee-note_650x400_41478848460.jpg.webp\n",
            "Completed Image ====> 67.lf.jpg\n",
            "Completed Image ====> 68.100-rupees-new-notes-indian-currency-front-view-on-the-stack-of-500-200-2000-rupee-indian-currencies-on-background-stock-image-pae4b7.jpg\n",
            "Completed Image ====> 69.0cb06c96a0ecd47dca7f7b627d41d7e2.jpg\n",
            "Completed Image ====> 70.india%2c_200_inr%2c_2018%2c_obverse.jpg\n",
            "Completed Image ====> 71.253007587.jpg\n",
            "Completed Image ====> 72.close-up-one-hundred-rupees-high-resolution-image-rupee-note-45351122.jpg\n",
            "Completed Image ====> 73.106b097b54a515164f3283a65f865031.jpg\n",
            "Completed Image ====> 74.maxresdefault.jpg\n",
            "Completed Image ====> 75.indian-money-and-banknotes-500-50-and-10-rupees-lie-on-a-marble-picture-id1084648314.jpg\n",
            "Completed Image ====> 76.dd73264b65969e4536fec20277a71b3c.jpg\n",
            "Completed Image ====> 77.rs100%20note-ksof--621x414@livemint.jpg.webp\n",
            "Completed Image ====> 78.112531502-100-rupee-banknote-india-the-brand-new-indian-currency-notes-of-100-rupees-isolated-on-the-white-bac.jpg\n",
            "Completed Image ====> 79.india-100-rupee-note-a3gh4m.jpg\n",
            "Completed Image ====> 80.100rupees_660_071918035705.jpg.webp\n",
            "Completed Image ====> 81.rupee.jpg\n",
            "Completed Image ====> 82.102800773_9ebaecc7b9_b.jpg\n",
            "Completed Image ====> 83.indian-rupee-currency-note-indian-rupee-currency-note-white-background-131809889.jpg\n",
            "Completed Image ====> 84.mcms.php.jpg\n",
            "Completed Image ====> 85.india-dollar.jpg\n",
            "Completed Image ====> 86.360_f_375290548_zjkukcg5v4wpmy2xb7qhxmbofjrr0krp.jpg\n",
            "Completed Image ====> 87.one-hundred-rupee-indian-currency-picture-id1094736896.jpg\n",
            "Completed Image ====> 88.depositphotos_416978186-stock-photo-indian-currency-100-200-500.jpg\n",
            "Completed Image ====> 89.mumbai-maharashtra-india-asia-april-23-2021-fifty-rupees-100-serial-notes-bundle-50-rupee-banknote-indian-currency-2fkadm1.jpg\n",
            "URLError on an image...trying next one... Error: HTTP Error 404: Not Found\n",
            "Completed Image ====> 90.100-rupee-bill-india-cyan-260nw-9149341.jpg\n",
            "Completed Image ====> 91.indian-currency-white-background-indian-currency-white-background-rupee-note-shoot-white-background-114910387.jpg\n",
            "Completed Image ====> 92.32190943222_d2f38af525_k-a26a5d1ea4b84606a0291832861cd61d.jpg\n",
            "Completed Image ====> 93.india_1000_inr%2c_mg_series%2c_2006%2c_obverse.jpg\n",
            "Completed Image ====> 94.chinese-one-hundred-yuan-note-on-a-background-of-indian-rupee-bills-picture-id1205846706.jpg\n",
            "Completed Image ====> 95.depositphotos_416978212-stock-photo-indian-currency-100-200-500.jpg\n",
            "Completed Image ====> 96.dcmm77x-ecb67e8a-c5bf-421d-b577-6fbac8099f63.jpg\n",
            "Completed Image ====> 97.112816118-indian-currency-of-100-rupee-notes-isolated-on-the-white-background-.jpg\n",
            "Completed Image ====> 98.c248c23404934fc2cc1925f161c345af.jpg\n",
            "Completed Image ====> 99.shutterstock_256864129-5bfc35f7c9e77c005181b84a.jpg\n",
            "\n",
            "Errors: 1\n",
            "\n"
          ],
          "name": "stdout"
        }
      ]
    },
    {
      "cell_type": "code",
      "metadata": {
        "colab": {
          "base_uri": "https://localhost:8080/"
        },
        "id": "nqyfuvguat_Q",
        "outputId": "34473c4b-a5c8-49be-befc-abddebb74433"
      },
      "source": [
        "arguments = {\"keywords\":\"500 rupees high quality indian currency\",\"limit\":100,\"print_urls\":False, \"format\":\"jpg\", \"size\":\">400*300\"}\n",
        "paths = response.download(arguments)"
      ],
      "execution_count": null,
      "outputs": [
        {
          "output_type": "stream",
          "text": [
            "\n",
            "Item no.: 1 --> Item name = 500 rupees high quality indian currency\n",
            "Evaluating...\n",
            "Starting Download...\n",
            "Completed Image ====> 1.india_new_500_inr%2c_mg_series%2c_2016%2c_obverse.jpg\n",
            "Completed Image ====> 2.500-indian-rupees-banknote-obverse-1.jpg\n",
            "Completed Image ====> 3.rbi-500-rupee-note.jpg\n",
            "Completed Image ====> 4.new-indian-currency-of-500-rupee-note-p79y5c.jpg\n",
            "Completed Image ====> 5.500_note_new_1582861761163.jpg.webp\n",
            "Completed Image ====> 6.new-indian-currency-500-rupee-260nw-1446337640.jpg\n",
            "Completed Image ====> 7.500-indian-rupees-banknote-gandhi-red-fort-obverse-1.jpg\n",
            "Completed Image ====> 8.india-500-rupee-inr-2010-asia-as-514.jpg\n",
            "Completed Image ====> 9.maxresdefault.jpg\n",
            "Completed Image ====> 10.indian-currency-500-rupee-note-five-hundred-rupee-indian-currency-isolated-on-black-background-2cet4gc.jpg\n",
            "Completed Image ====> 11.2609b5b165e6b0b8ea1427486d1633a2.jpg\n",
            "Completed Image ====> 12.-1x-1.jpg\n",
            "Completed Image ====> 13.old_500_notemay13.jpg\n",
            "Completed Image ====> 14.360_f_288286882_vt6grxxhxbhq8n0tq3hrkyahhsrqerpz.jpg\n",
            "Completed Image ====> 15.new-indian-currency-of-500-rupee-notes-background-2f7emyf.jpg\n",
            "Completed Image ====> 16.photo.jpg\n",
            "Completed Image ====> 17.depositphotos_416986274-stock-photo-indian-currency-500-rupee-note.jpg\n",
            "Completed Image ====> 18.inr4-4a0d97c5a50e453db97e2e3487c817a3.jpg\n",
            "Completed Image ====> 19.stock-photo-new-indian-currency-200-and-500-rupees-note-as-background-1010298.jpg\n",
            "Completed Image ====> 20.109561398-indian-money-and-banknotes-500-rupees-.jpg\n",
            "Completed Image ====> 21.500-note.jpg\n",
            "Completed Image ====> 22.banknote3.jpg\n",
            "Completed Image ====> 23.thumb.jpg\n",
            "Completed Image ====> 24.fake-notes.jpg\n",
            "Completed Image ====> 25.202-2029673_indian-rupee-png-new-500-rupee-note.png\n",
            "Completed Image ====> 26.rupees-587271_1920.jpg\n",
            "Completed Image ====> 27.full-frame-shot-of-bundled-rupees-picture-id1067550204.jpg\n",
            "Completed Image ====> 28.indian-currency-rupee-bank-note-bundle-hand-grey-background-122055158.jpg\n",
            "Completed Image ====> 29._92345559_gettyimages-621784080.jpg\n",
            "Completed Image ====> 30.photo-1565374392032-8007fb37c26e.jpg\n",
            "Completed Image ====> 31.1561720056400.jpg\n",
            "Completed Image ====> 32.4418975148380ef319dc8c471385dee8.jpg\n",
            "Completed Image ====> 33.indian-new-2000-and-500-rs-currency-note-picture-id625851522.jpg\n",
            "Completed Image ====> 34.indian-500-1-1477550531.jpg\n",
            "Completed Image ====> 35.photo-1565371767810-ef913a6c8315.jpg\n",
            "Completed Image ====> 36.depositphotos_388461154-stock-photo-500-rupee-indian-currency-notes.jpg\n",
            "Completed Image ====> 37.shutterstock_1097144396.jpg\n",
            "Completed Image ====> 38.500-indian-rupees-banknote-reverse-1.jpg\n",
            "Completed Image ====> 39.2000-1-660.jpg\n",
            "Completed Image ====> 40.500_f_301160790_7uw2tiwtvfbqhjaye1plyvsd3cvv4iw2.jpg\n",
            "Completed Image ====> 41.thumb.php.jpg\n",
            "Completed Image ====> 42._92429001_gettyimages-621769702.jpg\n",
            "Completed Image ====> 43.a-woman-hand-holding-a-torn-new-rs-500-rupees-indian-currency-notes-showing-mahatma-gandhi-printed-on-the-note-against-a-bokeh-background-with-lots-of-2cb4d6c.jpg\n",
            "Completed Image ====> 44.stock-photo--indian-rupees-high-resolution-seamless-texture-indian-money-seamless-texture-107101346.jpg\n",
            "Completed Image ====> 45.153208255-closeup-of-brand-new-colorful-indian-currency-bank-notes-of-rs-500-rupees-bundle-issued-and-in-circu.jpg\n",
            "Completed Image ====> 46.rupee3-k7di--621x414@livemint.jpg.webp\n",
            "Completed Image ====> 47.500rupeenote.jpeg\n",
            "Completed Image ====> 48.the-indian-rupee-is-getting-crushed-by-its-own-central-bank.jpg\n",
            "Completed Image ====> 49.screenshot_2021-05-28_at_11.27.34_pm.png.jpg\n",
            "Completed Image ====> 50.500rupee%20copy.jpg\n",
            "Completed Image ====> 51.8a11114a-e72e-412b-96c2-ad31e22eb3ce.jpg\n",
            "Completed Image ====> 52.3937.jpg\n",
            "Completed Image ====> 53.dpa-rmm-123423.jpg\n",
            "Completed Image ====> 54.banknote_of_india.jpg\n",
            "Completed Image ====> 55.q71g1awdg5n4hwgxuzrf.jpg\n",
            "Completed Image ====> 56.depositphotos_416977318-stock-photo-indian-currency-500-rupee-note.jpg\n",
            "Completed Image ====> 57.nepal-bans-indian-currency-notes-above-rupees-100-notes-outlook-traveller__jpg.jpg\n",
            "Completed Image ====> 58.s-l400.jpg\n",
            "Completed Image ====> 59._92376091_mediaitem92376089.jpg\n",
            "Completed Image ====> 60.indian-rupee-adding-money-piggybank.jpg\n",
            "Completed Image ====> 61.bloombergquint%2f2016-12%2fee35ad78-4b33-4ba3-bed6-724c14e873bb%2f500-rupee-note-defect.jpg\n",
            "Completed Image ====> 62.1047442682_0:566:5760:3683_1000x541_80_0_0_377e3d5fff658983784659a04737f3af.jpg\n",
            "Completed Image ====> 63.8e372999bda6457596f5c0bd3b6959e6_18.jpeg\n",
            "Completed Image ====> 64.226386415.jpg\n",
            "Completed Image ====> 65.s-l400.jpg\n",
            "Completed Image ====> 66.new-indian-currency-rupees-note-as-background-128036287.jpg\n",
            "Completed Image ====> 67.7d2916d211f5ca5e4b86735e51ffba38.jpg\n",
            "Completed Image ====> 68.indian-money-and-banknotes-500-50-and-10-rupees-lie-on-a-marble-picture-id1084648314.jpg\n",
            "Completed Image ====> 69.500_note_front_1582861788206.png.webp\n",
            "Completed Image ====> 70.b75-1573337.jpg\n",
            "Completed Image ====> 71.tges7iuodblhnddtr65hcuteqa.jpg\n",
            "Completed Image ====> 72.why-has-india-banned-500-rupee-currency-notes.jpg\n",
            "Completed Image ====> 73.re1-759.jpg\n",
            "Completed Image ====> 74.indian-rupee-500-1000-banknote-stash-1.jpg\n",
            "Completed Image ====> 75.251-2510350_indian-money-500-rupees-note-pkr.png\n",
            "Completed Image ====> 76.400_f_319729714_kwnwtf89s9ccfy6jdfrn8lpy9pnq2mic.jpg\n",
            "Completed Image ====> 77.the-nepal-government-has-banned-the-use-of-indian-currency-notes-of-picture-id1073361330.jpg\n",
            "Completed Image ====> 78.depositphotos_159164432-stock-photo-randomly-placed-500-rupee-indian.jpg\n",
            "Completed Image ====> 79.depositphotos_416985684-stock-photo-indian-currency-500-rupee-note.jpg\n",
            "Completed Image ====> 80.q68hfeno_rupee-budget-generic_625x300_01_february_20.jpg.webp\n",
            "Completed Image ====> 81.demonetisednotes.jpg\n",
            "Completed Image ====> 82.indian-currency-ban-causes-hardship-in-country-s-poultry-sector_wrbm_large.jpg\n",
            "Completed Image ====> 83.hi-rupee-04884562.jpg.webp\n",
            "Completed Image ====> 84.235408264.jpg\n",
            "Completed Image ====> 85.7471358-three-500-rupee-indian-currency-notes-on-a-ruled-paper-notebook.jpg\n",
            "Completed Image ====> 86.2cd57e268e1efb431ccfff113e47da6b.jpg\n",
            "Completed Image ====> 87.360_f_410402395_4qlypykm7amoezpisdxg1cvppor9qcll.jpg\n",
            "Completed Image ====> 88.ap_16313651812985_custom-17412d51efc1eb0f101cf006d75f1304afaf5b33-s800-c85.jpg\n",
            "Completed Image ====> 89.india-economy-bank-forex_b54823d8-a5c8-11e6-b6db-fc3e04d5bb2c.jpg.webp\n",
            "Completed Image ====> 90.thumb.php.jpg\n",
            "Completed Image ====> 91.new-indian-500-rupee-bundles-260nw-783419104.jpg\n",
            "Completed Image ====> 92.647_111616014417.jpg\n",
            "Completed Image ====> 93.s-l400.jpg\n",
            "Completed Image ====> 94.a-bundle-of-rs-500-indian-currency-kept-on-a-table-p54jfh.jpg\n",
            "Completed Image ====> 95.indian-rupee.jpg\n",
            "Completed Image ====> 96.india-dollar.jpg\n",
            "Completed Image ====> 97.page_1.jpg\n",
            "Completed Image ====> 98.1543522181-5022.jpg\n",
            "Completed Image ====> 99.lf.jpg\n",
            "Completed Image ====> 100.32190943222_d2f38af525_k-a26a5d1ea4b84606a0291832861cd61d.jpg\n",
            "\n",
            "Errors: 0\n",
            "\n"
          ],
          "name": "stdout"
        }
      ]
    },
    {
      "cell_type": "code",
      "metadata": {
        "id": "0q0C1K-d8I_A",
        "colab": {
          "base_uri": "https://localhost:8080/"
        },
        "outputId": "a947f80b-e623-41b4-b8a5-10ecb6af3233"
      },
      "source": [
        "from tensorflow.python.framework.ops import disable_eager_execution\n",
        "disable_eager_execution()\n",
        "\n",
        "base_model=MobileNet(weights='imagenet',include_top=False) #imports the mobilenet model and discards the last 1000 neuron layer.\n",
        "\n",
        "x=base_model.output\n",
        "x=GlobalAveragePooling2D()(x)\n",
        "x=Dense(1024,activation='relu')(x) #we add dense layers so that the model can learn more complex functions and classify for better results.\n",
        "x=Dense(1024,activation='relu')(x) #dense layer 2\n",
        "x=Dense(512,activation='relu')(x) #dense layer 3\n",
        "preds=Dense(5,activation='softmax')(x) #final layer with softmax activation"
      ],
      "execution_count": null,
      "outputs": [
        {
          "output_type": "stream",
          "text": [
            "WARNING:tensorflow:`input_shape` is undefined or non-square, or `rows` is not in [128, 160, 192, 224]. Weights for input shape (224, 224) will be loaded as the default.\n",
            "WARNING:tensorflow:From /usr/local/lib/python3.7/dist-packages/tensorflow/python/keras/layers/normalization.py:534: _colocate_with (from tensorflow.python.framework.ops) is deprecated and will be removed in a future version.\n",
            "Instructions for updating:\n",
            "Colocations handled automatically by placer.\n"
          ],
          "name": "stdout"
        }
      ]
    },
    {
      "cell_type": "code",
      "metadata": {
        "id": "w6p5WKSs8Jon"
      },
      "source": [
        "model=Model(inputs=base_model.input,outputs=preds)\n",
        "#specify the inputs\n",
        "#specify the outputs\n",
        "#now a model has been created based on our architecture"
      ],
      "execution_count": null,
      "outputs": []
    },
    {
      "cell_type": "code",
      "metadata": {
        "id": "EmWVniRi8Ln_",
        "colab": {
          "base_uri": "https://localhost:8080/"
        },
        "outputId": "2c25b9c9-b4b8-425a-f9f9-e307f3a8ae6c"
      },
      "source": [
        "for i,layer in enumerate(model.layers):\n",
        "  print(i,layer.name)"
      ],
      "execution_count": null,
      "outputs": [
        {
          "output_type": "stream",
          "text": [
            "0 global_average_pooling2d_2\n",
            "1 dense_1\n",
            "2 dense_2\n",
            "3 dense_3\n",
            "4 dense_4\n"
          ],
          "name": "stdout"
        }
      ]
    },
    {
      "cell_type": "code",
      "metadata": {
        "id": "sLfGPJOe8NVO"
      },
      "source": [
        "for layer in model.layers:\n",
        "    layer.trainable=False\n",
        "# or if we want to set the first 20 layers of the network to be non-trainable\n",
        "for layer in model.layers[:20]:\n",
        "    layer.trainable=False\n",
        "for layer in model.layers[20:]:\n",
        "    layer.trainable=True"
      ],
      "execution_count": null,
      "outputs": []
    },
    {
      "cell_type": "code",
      "metadata": {
        "id": "Cy8q0-Jv8Qyr",
        "colab": {
          "base_uri": "https://localhost:8080/"
        },
        "outputId": "d540e6dd-126e-42f7-93c3-785502389a88"
      },
      "source": [
        "train_datagen=ImageDataGenerator(preprocessing_function=preprocess_input) #included in our dependencies\n",
        "\n",
        "train_generator=train_datagen.flow_from_directory('downloads',\n",
        "                                                 target_size=(224,224),\n",
        "                                                 color_mode='rgb',\n",
        "                                                 batch_size=32,\n",
        "                                                 class_mode='categorical',\n",
        "                                                 shuffle=True)"
      ],
      "execution_count": null,
      "outputs": [
        {
          "output_type": "stream",
          "text": [
            "Found 420 images belonging to 5 classes.\n"
          ],
          "name": "stdout"
        }
      ]
    },
    {
      "cell_type": "code",
      "metadata": {
        "id": "WsXDSOhxYWgL"
      },
      "source": [
        "# from google.colab import drive\n",
        "# drive.mount('/content/drive')"
      ],
      "execution_count": null,
      "outputs": []
    },
    {
      "cell_type": "code",
      "metadata": {
        "colab": {
          "base_uri": "https://localhost:8080/"
        },
        "id": "X9uEZQhl8BOZ",
        "outputId": "dd4f7ce8-89ff-4791-96fa-14f46101ea6e"
      },
      "source": [
        "import tensorflow\n",
        "\n",
        "print(tensorflow.__version__)"
      ],
      "execution_count": null,
      "outputs": [
        {
          "output_type": "stream",
          "text": [
            "2.5.0\n"
          ],
          "name": "stdout"
        }
      ]
    },
    {
      "cell_type": "code",
      "metadata": {
        "id": "gyOt7vBe9l4u"
      },
      "source": [
        "model.compile(optimizer='Adam',loss='categorical_crossentropy',metrics=['accuracy'])\n",
        "# Adam optimizer\n",
        "# loss function will be categorical cross entropy\n",
        "# evaluation metric will be accuracy\n",
        "\n",
        "step_size_train=train_generator.n//train_generator.batch_size\n",
        "model.fit_generator(generator=train_generator,\n",
        "                   steps_per_epoch=step_size_train,\n",
        "                   epochs=10)\n",
        "\n",
        "fit(\n",
        "    x=None, y=None, batch_size=None, epochs=10, verbose='auto',\n",
        "    callbacks=None, validation_split=0.0, validation_data=None, shuffle=True,\n",
        "    class_weight=None, sample_weight=None, initial_epoch=0, steps_per_epoch=step_size_train,\n",
        "    validation_steps=None, validation_batch_size=None, validation_freq=1,\n",
        "    max_queue_size=10, workers=1, use_multiprocessing=False\n",
        ")\n",
        "\n",
        "\n",
        "model.save('resnet50_weights_tf_dim_ordering_tf_kernels.h5')"
      ],
      "execution_count": null,
      "outputs": []
    },
    {
      "cell_type": "code",
      "metadata": {
        "id": "6CUC1CWR8UcX"
      },
      "source": [
        "def load_image(img_path, show=False):\n",
        "\n",
        "    img = image.load_img(img_path, target_size=(150, 150))\n",
        "    img_tensor = image.img_to_array(img)                    # (height, width, channels)\n",
        "    img_tensor = np.expand_dims(img_tensor, axis=0)         # (1, height, width, channels), add a dimension because the model expects this shape: (batch_size, height, width, channels)\n",
        "    img_tensor /= 255.                                      # imshow expects values in the range [0, 1]\n",
        "\n",
        "    if show:\n",
        "        plt.imshow(img_tensor[0])                           \n",
        "        plt.axis('off')\n",
        "        plt.show()\n",
        "\n",
        "    return img_tensor"
      ],
      "execution_count": null,
      "outputs": []
    },
    {
      "cell_type": "code",
      "metadata": {
        "id": "kI0ykVXd8WUT"
      },
      "source": [
        "#img_path = 'C:/Users/Ferhat/Python Code/Workshop/Tensoorflow transfer learning/blue_tit.jpg'\n",
        "#img_path = 'validation data/one_dollar_bill.jpg'\n",
        "#img_path = 'validation data/five_dollar_bill.jpeg'\n",
        "#img_path = 'validation data/five_dollar_bills_2.jpg'\n",
        "img_path = 'validation data/twenty_dollar_bill_2.jpeg'\n",
        "\n",
        "new_image = load_image(img_path)"
      ],
      "execution_count": null,
      "outputs": []
    },
    {
      "cell_type": "code",
      "metadata": {
        "id": "lxwaMSFm8Y9I"
      },
      "source": [
        "pred = model.predict(new_image)"
      ],
      "execution_count": null,
      "outputs": []
    },
    {
      "cell_type": "code",
      "metadata": {
        "id": "ohZ8jklv8aiV",
        "colab": {
          "base_uri": "https://localhost:8080/"
        },
        "outputId": "8c25ec19-81a1-4941-ccf8-230dcb7a37e6"
      },
      "source": [
        "pred"
      ],
      "execution_count": null,
      "outputs": [
        {
          "output_type": "execute_result",
          "data": {
            "text/plain": [
              "array([[1.10385015e-23, 1.30200026e-28, 3.25447375e-23, 1.00000000e+00]],\n",
              "      dtype=float32)"
            ]
          },
          "metadata": {
            "tags": []
          },
          "execution_count": 120
        }
      ]
    },
    {
      "cell_type": "code",
      "metadata": {
        "colab": {
          "base_uri": "https://localhost:8080/"
        },
        "id": "bIJ4vVGqe69m",
        "outputId": "3c6b6c66-4504-421a-f707-b3ba21fa8423"
      },
      "source": [
        "from keras.models import load_model\n",
        "from PIL import Image\n",
        "import numpy as np\n",
        "import sys\n",
        "\n",
        "img_path = 'validation data/twenty_dollar_bill_2.jpeg'\n",
        "new_image = load_image(img_path)\n",
        "\n",
        "keras.models.load_model('resnet50_weights_tf_dim_ordering_tf_kernels.h5')\n",
        "\n",
        "pred = model.predict(new_image)\n",
        "pred"
      ],
      "execution_count": null,
      "outputs": [
        {
          "output_type": "execute_result",
          "data": {
            "text/plain": [
              "array([[1.10385015e-23, 1.30200026e-28, 3.25447375e-23, 1.00000000e+00]],\n",
              "      dtype=float32)"
            ]
          },
          "metadata": {
            "tags": []
          },
          "execution_count": 122
        }
      ]
    }
  ]
}